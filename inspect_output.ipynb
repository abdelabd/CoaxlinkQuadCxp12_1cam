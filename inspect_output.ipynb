{
 "cells": [
  {
   "cell_type": "code",
   "execution_count": 1,
   "metadata": {},
   "outputs": [
    {
     "name": "stderr",
     "output_type": "stream",
     "text": [
      "2025-07-01 15:46:09.269355: I tensorflow/core/platform/cpu_feature_guard.cc:193] This TensorFlow binary is optimized with oneAPI Deep Neural Network Library (oneDNN) to use the following CPU instructions in performance-critical operations:  AVX2 AVX_VNNI FMA\n",
      "To enable them in other operations, rebuild TensorFlow with the appropriate compiler flags.\n",
      "2025-07-01 15:46:09.358251: I tensorflow/core/util/port.cc:104] oneDNN custom operations are on. You may see slightly different numerical results due to floating-point round-off errors from different computation orders. To turn them off, set the environment variable `TF_ENABLE_ONEDNN_OPTS=0`.\n",
      "2025-07-01 15:46:09.361135: W tensorflow/compiler/xla/stream_executor/platform/default/dso_loader.cc:64] Could not load dynamic library 'libcudart.so.11.0'; dlerror: libcudart.so.11.0: cannot open shared object file: No such file or directory\n",
      "2025-07-01 15:46:09.361150: I tensorflow/compiler/xla/stream_executor/cuda/cudart_stub.cc:29] Ignore above cudart dlerror if you do not have a GPU set up on your machine.\n",
      "2025-07-01 15:46:09.829645: W tensorflow/compiler/xla/stream_executor/platform/default/dso_loader.cc:64] Could not load dynamic library 'libnvinfer.so.7'; dlerror: libnvinfer.so.7: cannot open shared object file: No such file or directory\n",
      "2025-07-01 15:46:09.829734: W tensorflow/compiler/xla/stream_executor/platform/default/dso_loader.cc:64] Could not load dynamic library 'libnvinfer_plugin.so.7'; dlerror: libnvinfer_plugin.so.7: cannot open shared object file: No such file or directory\n",
      "2025-07-01 15:46:09.829739: W tensorflow/compiler/tf2tensorrt/utils/py_utils.cc:38] TF-TRT Warning: Cannot dlopen some TensorRT libraries. If you would like to use Nvidia GPU with TensorRT, please make sure the missing libraries mentioned above are installed properly.\n"
     ]
    },
    {
     "name": "stdout",
     "output_type": "stream",
     "text": [
      "WARNING: Failed to import handlers from core.py: No module named 'torch'.\n",
      "WARNING: Failed to import handlers from convolution.py: No module named 'torch'.\n",
      "WARNING: Failed to import handlers from pooling.py: No module named 'torch'.\n",
      "WARNING: Failed to import handlers from recurrent.py: No module named 'torch'.\n",
      "WARNING: Failed to import handlers from reshape.py: No module named 'torch'.\n",
      "WARNING: Failed to import handlers from merge.py: No module named 'torch'.\n"
     ]
    },
    {
     "name": "stderr",
     "output_type": "stream",
     "text": [
      "/home/aelabd/RHEED/hls4ml/hls4ml/converters/__init__.py:29: UserWarning: WARNING: Pytorch converter is not enabled!\n",
      "  warnings.warn(\"WARNING: Pytorch converter is not enabled!\", stacklevel=1)\n"
     ]
    }
   ],
   "source": [
    "import os\n",
    "import copy\n",
    "from pathlib import Path\n",
    "import json\n",
    "import numpy as np\n",
    "import matplotlib.pyplot as plt\n",
    "from tqdm import tqdm\n",
    "import itertools\n",
    "\n",
    "import tensorflow as tf\n",
    "from tensorflow.keras import layers\n",
    "from tensorflow.keras.models import Model, Sequential\n",
    "\n",
    "import hls4ml\n",
    "from hls4ml.converters.keras_to_hls import parse_default_keras_layer\n",
    "from hls4ml.model.attributes import ConfigurableAttribute, TypeAttribute\n",
    "from hls4ml.model.types import FixedPrecisionType, RoundingMode, SaturationMode\n",
    "from hls4ml.model.attributes import Attribute\n",
    "\n",
    "import h5py\n",
    "\n",
    "import qkeras as qk\n",
    "from qkeras.estimate import print_qstats\n",
    "from qkeras.utils import model_quantize\n",
    "from qkeras.utils import quantized_model_dump\n",
    "from qkeras import QActivation, QDense, QConv2DBatchnorm\n",
    "\n",
    "# Source the Vivado path\n",
    "os.environ['PATH'] = os.environ['XILINX_VIVADO'] + '/bin:' + os.environ['PATH']\n",
    "\n",
    "np.random.seed(0)\n",
    "tf.random.set_seed(0)\n"
   ]
  },
  {
   "cell_type": "markdown",
   "metadata": {},
   "source": [
    "Helper functions"
   ]
  },
  {
   "cell_type": "code",
   "execution_count": 2,
   "metadata": {},
   "outputs": [
    {
     "name": "stdout",
     "output_type": "stream",
     "text": [
      "3.25\n",
      "-2.0\n"
     ]
    }
   ],
   "source": [
    "def ap_fixed_bin_to_float(bin_str: str, X: int, Y: int) -> np.float32:\n",
    "    \"\"\"\n",
    "    Converts a binary string in two's complement ap_fixed<X,Y> format to a float.\n",
    "    \n",
    "    Parameters:\n",
    "        bin_str (str): Binary string of length X.\n",
    "        X (int): Total number of bits.\n",
    "        Y (int): Number of integer bits (including sign bit).\n",
    "        \n",
    "    Returns:\n",
    "        np.float32: Floating point value.\n",
    "    \"\"\"\n",
    "    if len(bin_str) != X:\n",
    "        raise ValueError(f\"Binary string length ({len(bin_str)}) must match X ({X})\")\n",
    "    \n",
    "    # Interpret binary string as signed integer\n",
    "    int_val = int(bin_str, 2)\n",
    "    if bin_str[0] == '1':  # Negative number (two's complement)\n",
    "        int_val -= (1 << X)\n",
    "    \n",
    "    # Scale back by number of fractional bits\n",
    "    frac_bits = X - Y\n",
    "    value = int_val / (2 ** frac_bits)\n",
    "    return np.float32(value)\n",
    "\n",
    "print(ap_fixed_bin_to_float('00110100', 8, 4))  # 3.25\n",
    "print(ap_fixed_bin_to_float('11100000', 8, 4))  # -4"
   ]
  },
  {
   "cell_type": "markdown",
   "metadata": {},
   "source": [
    "# Load QKeras benchmarks"
   ]
  },
  {
   "cell_type": "code",
   "execution_count": null,
   "metadata": {},
   "outputs": [
    {
     "name": "stdout",
     "output_type": "stream",
     "text": [
      "[[ 0.43359375  0.49853516 -0.55810547 -0.38134766 -0.20068359]\n",
      " [ 0.42626953  0.49755859 -0.55761719 -0.38427734 -0.19042969]\n",
      " [ 0.43359375  0.49853516 -0.55810547 -0.38134766 -0.20068359]\n",
      " [ 0.42724609  0.51220703 -0.51269531 -0.35351562 -0.29882812]\n",
      " [ 0.43115234  0.50732422 -0.52197266 -0.35253906 -0.25927734]\n",
      " [ 0.42724609  0.51220703 -0.51269531 -0.35351562 -0.29882812]]\n"
     ]
    }
   ],
   "source": [
    "IN_ROWS = 100\n",
    "IN_COLS = 160\n",
    "OUT_ROWS = 48\n",
    "OUT_COLS = 48\n",
    "NUM_CROPS = 1\n",
    "data_dir = f\"tb_data_Mono8/{IN_ROWS}x{IN_COLS}_to_{OUT_ROWS}x{OUT_COLS}x{NUM_CROPS}\"\n",
    "\n",
    "CROP_X0 = [0, 13, 112]\n",
    "# CROP_Y0 = [0, 1, 52]\n",
    "CROP_Y0 = [1, 52]\n",
    "\n",
    "qkeras_out = np.zeros((6, 5))\n",
    "i = 0\n",
    "for y0 in CROP_Y0:\n",
    "    for x0 in CROP_X0:\n",
    "        fpath = os.path.join(data_dir, f\"Y1_{y0}/X1_{x0}/QKeras_pred_ap_fixed_22_11.txt\")\n",
    "        with open(fpath, \"r\") as f:\n",
    "            for j, line in enumerate(f.readlines()):\n",
    "                line_float = ap_fixed_bin_to_float(line.strip(), 22, 11)\n",
    "                qkeras_out[i, j] = line_float\n",
    "            i += 1\n",
    "\n",
    "print(qkeras_out)"
   ]
  },
  {
   "cell_type": "markdown",
   "metadata": {},
   "source": [
    "# Load RTL CNN benchmarks"
   ]
  },
  {
   "cell_type": "code",
   "execution_count": null,
   "metadata": {},
   "outputs": [
    {
     "name": "stdout",
     "output_type": "stream",
     "text": [
      "[[ 0.43359375  0.49853516 -0.55810547 -0.38134766 -0.20068359]\n",
      " [ 0.4375      0.50488281 -0.55419922 -0.39160156 -0.20605469]\n",
      " [ 0.42919922  0.49902344 -0.55615234 -0.38183594 -0.20507812]\n",
      " [ 0.42578125  0.51757812 -0.51171875 -0.35400391 -0.3046875 ]\n",
      " [ 0.43261719  0.52734375 -0.50585938 -0.35742188 -0.34619141]\n",
      " [ 0.42578125  0.51757812 -0.51171875 -0.35400391 -0.3046875 ]]\n"
     ]
    }
   ],
   "source": [
    "rtl_cnn_out = np.zeros((6,5))\n",
    "i=0\n",
    "for y0 in CROP_Y0:\n",
    "    for x0 in CROP_X0:\n",
    "        fpath = os.path.join(data_dir, f\"Y1_{y0}/X1_{x0}/CNN_out_benchmark_ap_fixed_22_11.txt\")\n",
    "        with open(fpath, \"r\") as f:\n",
    "            for j, line in enumerate(f.readlines()):\n",
    "                line_float = ap_fixed_bin_to_float(line.strip(), 22, 11)\n",
    "                rtl_cnn_out[i, j] = line_float\n",
    "            i += 1\n",
    "\n",
    "print(rtl_cnn_out)"
   ]
  },
  {
   "cell_type": "code",
   "execution_count": 23,
   "metadata": {},
   "outputs": [
    {
     "name": "stdout",
     "output_type": "stream",
     "text": [
      "[[ 0.43359375  0.49853516 -0.55810547 -0.38134766 -0.20068359]\n",
      " [ 0.42626953  0.49755859 -0.55761719 -0.38427734 -0.19042969]\n",
      " [ 0.43359375  0.49853516 -0.55810547 -0.38134766 -0.20068359]\n",
      " [ 0.42724609  0.51220703 -0.51269531 -0.35351562 -0.29882812]\n",
      " [ 0.43115234  0.50732422 -0.52197266 -0.35253906 -0.25927734]\n",
      " [ 0.42724609  0.51220703 -0.51269531 -0.35351562 -0.29882812]]\n"
     ]
    }
   ],
   "source": [
    "full_pipeline_out = np.zeros((6,5))\n",
    "i=0\n",
    "for y0 in CROP_Y0:\n",
    "    for x0 in CROP_X0:\n",
    "        fpath = os.path.join(data_dir, f\"Y1_{y0}/X1_{x0}/full_pipeline_out_ap_fixed_22_11.txt\")\n",
    "        with open(fpath, \"r\") as f:\n",
    "            for j,line in enumerate(f.readlines()):\n",
    "                line_float = ap_fixed_bin_to_float(line.strip(), 22, 11)\n",
    "                full_pipeline_out[i, j] = line_float\n",
    "            i += 1\n",
    "\n",
    "print(full_pipeline_out)"
   ]
  },
  {
   "cell_type": "code",
   "execution_count": 27,
   "metadata": {},
   "outputs": [
    {
     "data": {
      "text/plain": [
       "array([[0., 0., 0., 0., 0.],\n",
       "       [0., 0., 0., 0., 0.],\n",
       "       [0., 0., 0., 0., 0.],\n",
       "       [0., 0., 0., 0., 0.],\n",
       "       [0., 0., 0., 0., 0.],\n",
       "       [0., 0., 0., 0., 0.]])"
      ]
     },
     "execution_count": 27,
     "metadata": {},
     "output_type": "execute_result"
    }
   ],
   "source": [
    "qkeras_out - full_pipeline_out"
   ]
  },
  {
   "cell_type": "markdown",
   "metadata": {},
   "source": [
    "# Create, imshow 3D map of diff"
   ]
  },
  {
   "cell_type": "code",
   "execution_count": 6,
   "metadata": {},
   "outputs": [
    {
     "name": "stdout",
     "output_type": "stream",
     "text": [
      "\n",
      "QKeras CNN - RTL CNN pipeline\n",
      "\n",
      "y0=1\n",
      "  x0=0 diff: 0.000000\n",
      "  x0=13 diff: 0.015625\n",
      "  x0=112 diff: 0.004395\n",
      "\n",
      "y0=52\n",
      "  x0=0 diff: 0.005859\n",
      "  x0=13 diff: 0.086914\n",
      "  x0=112 diff: 0.005859\n"
     ]
    }
   ],
   "source": [
    "# QKeras CNN - RTL CNN \n",
    "print(f\"\\nQKeras CNN - RTL CNN pipeline\")\n",
    "cnn_diff = {}\n",
    "for y0 in CROP_Y0:\n",
    "    print(f\"\\ny0={y0}\")\n",
    "    cnn_diff[f\"y1_{y0}\"] = {}\n",
    "    for x0 in CROP_X0:\n",
    "        cnn_diff[f\"y1_{y0}\"][f\"x1_{x0}\"] = qkeras_out[f\"y1_{y0}\"][f\"x1_{x0}\"] - rtl_cnn_out[f\"y1_{y0}\"][f\"x1_{x0}\"]\n",
    "        print(f\"  x0={x0} diff: {cnn_diff[f'y1_{y0}'][f'x1_{x0}']:.6f}\")"
   ]
  },
  {
   "cell_type": "code",
   "execution_count": 9,
   "metadata": {},
   "outputs": [
    {
     "name": "stdout",
     "output_type": "stream",
     "text": [
      "\n",
      "y0=1\n",
      "  x0=0 diff: 0.000000\n",
      "  x0=13 diff: -0.015625\n",
      "  x0=112 diff: -0.004395\n",
      "\n",
      "y0=52\n",
      "  x0=0 diff: -0.005859\n",
      "  x0=13 diff: -0.086914\n",
      "  x0=112 diff: -0.005859\n"
     ]
    }
   ],
   "source": [
    "# RTL CNN - RTL full pipeline\n",
    "rtl_diff = {}\n",
    "for y0 in CROP_Y0:\n",
    "    if y0==0:\n",
    "        continue\n",
    "    print(f\"\\ny0={y0}\")\n",
    "    rtl_diff[f\"y1_{y0}\"] = {}\n",
    "    for x0 in CROP_X0:\n",
    "        rtl_diff[f\"y1_{y0}\"][f\"x1_{x0}\"] = rtl_cnn_out[f\"y1_{y0}\"][f\"x1_{x0}\"] - full_pipeline_out[f\"y1_{y0}\"][f\"x1_{x0}\"]\n",
    "        print(f\"  x0={x0} diff: {rtl_diff[f'y1_{y0}'][f'x1_{x0}']:.6f}\")\n",
    "    \n",
    "                "
   ]
  },
  {
   "cell_type": "code",
   "execution_count": 20,
   "metadata": {},
   "outputs": [
    {
     "name": "stdout",
     "output_type": "stream",
     "text": [
      "y1_1\n",
      "y1_52\n"
     ]
    }
   ],
   "source": [
    "rtl_cnn_out_arr = np.zeros((9, 5))\n",
    "i=0\n",
    "for k,v in rtl_cnn_out.items():\n",
    "    print(f\"{k}\")\n",
    "    for k2, v2 in v.items():\n",
    "        rtl_cnn_out_arr[i] = v[k2]\n",
    "        i += 1"
   ]
  },
  {
   "cell_type": "code",
   "execution_count": 21,
   "metadata": {},
   "outputs": [
    {
     "data": {
      "text/plain": [
       "array([[-0.20068359, -0.20068359, -0.20068359, -0.20068359, -0.20068359],\n",
       "       [-0.20605469, -0.20605469, -0.20605469, -0.20605469, -0.20605469],\n",
       "       [-0.20507812, -0.20507812, -0.20507812, -0.20507812, -0.20507812],\n",
       "       [-0.3046875 , -0.3046875 , -0.3046875 , -0.3046875 , -0.3046875 ],\n",
       "       [-0.34619141, -0.34619141, -0.34619141, -0.34619141, -0.34619141],\n",
       "       [-0.3046875 , -0.3046875 , -0.3046875 , -0.3046875 , -0.3046875 ],\n",
       "       [ 0.        ,  0.        ,  0.        ,  0.        ,  0.        ],\n",
       "       [ 0.        ,  0.        ,  0.        ,  0.        ,  0.        ],\n",
       "       [ 0.        ,  0.        ,  0.        ,  0.        ,  0.        ]])"
      ]
     },
     "execution_count": 21,
     "metadata": {},
     "output_type": "execute_result"
    }
   ],
   "source": [
    "rtl_cnn_out_arr"
   ]
  },
  {
   "cell_type": "code",
   "execution_count": 23,
   "metadata": {},
   "outputs": [
    {
     "data": {
      "text/plain": [
       "-0.20507812"
      ]
     },
     "execution_count": 23,
     "metadata": {},
     "output_type": "execute_result"
    }
   ],
   "source": [
    "rtl_cnn_out[\"y1_1\"][\"x1_112\"]"
   ]
  },
  {
   "cell_type": "code",
   "execution_count": null,
   "metadata": {},
   "outputs": [],
   "source": []
  }
 ],
 "metadata": {
  "kernelspec": {
   "display_name": "rheed_hls4ml_dev",
   "language": "python",
   "name": "python3"
  },
  "language_info": {
   "codemirror_mode": {
    "name": "ipython",
    "version": 3
   },
   "file_extension": ".py",
   "mimetype": "text/x-python",
   "name": "python",
   "nbconvert_exporter": "python",
   "pygments_lexer": "ipython3",
   "version": "3.10.15"
  }
 },
 "nbformat": 4,
 "nbformat_minor": 2
}
