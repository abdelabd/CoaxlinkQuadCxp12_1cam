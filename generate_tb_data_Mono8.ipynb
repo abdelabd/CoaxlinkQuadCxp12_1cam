{
 "cells": [
  {
   "cell_type": "markdown",
   "metadata": {},
   "source": [
    "# IMPORTANT: \n",
    "# You must also edit:\n",
    "# 1. 04_ref_design/sim/SimulationCtrl_tb.vhd \n",
    "# AND \n",
    "# 2. 04_ref_design/sim/Simulation_FileIO_pkg.vhd \n",
    "\n",
    "# !!!"
   ]
  },
  {
   "cell_type": "markdown",
   "metadata": {},
   "source": [
    "Mono8 can only represent pixel values about to 255, but the framegrabber requires **TODO**: explain what I'm doing here"
   ]
  },
  {
   "cell_type": "code",
   "execution_count": 1,
   "metadata": {},
   "outputs": [],
   "source": [
    "import os\n",
    "import numpy as np\n",
    "import matplotlib.pyplot as plt\n",
    "import itertools\n",
    "import copy\n",
    "from tqdm import tqdm\n",
    "\n",
    "np.random.seed(0)"
   ]
  },
  {
   "cell_type": "markdown",
   "metadata": {},
   "source": [
    "Globals"
   ]
  },
  {
   "cell_type": "code",
   "execution_count": 2,
   "metadata": {},
   "outputs": [
    {
     "name": "stdout",
     "output_type": "stream",
     "text": [
      "IMG_COL_BITWIDTH: 9\n",
      "IMG_ROW_BITWIDTH: 8\n",
      "FP_TOTAL: 8\n",
      "FP_INT: 8\n",
      "FP_FRAC: 0\n",
      "DATA_STRING_INSERT: _INDEX\n"
     ]
    }
   ],
   "source": [
    "IN_ROWS = 100 # NOTE: Must be a multiple of 16!\n",
    "IN_COLS = 160 # NOTE: Must be a multiple of 16!\n",
    "OUT_ROWS = 48\n",
    "OUT_COLS = 48\n",
    "IMG_COL_BITWIDTH = int(np.ceil(np.log2(IN_COLS+1))+1)\n",
    "IMG_ROW_BITWIDTH = int(np.ceil(np.log2(IN_ROWS+1))+1)\n",
    "NUM_CROPS = 1\n",
    "\n",
    "TESTBENCH_TYPE = \"VALUE_EQUALS_INDEX\"\n",
    "assert(TESTBENCH_TYPE in [\"VALUE_EQUALS_INDEX\"]) # [\"REAL_DATA\", \"VALUE_EQUALS_INDEX\", \"RANDOM\"])\n",
    "if TESTBENCH_TYPE==\"VALUE_EQUALS_INDEX\":\n",
    "    FP_FRAC = 0 # We just want integer values corresponding to the index of each pixel\n",
    "    FP_INT = 8 # int(np.log2(IN_ROWS*IN_COLS)) + 1 \n",
    "    FP_TOTAL = FP_FRAC + FP_INT # UNSIGNED!\n",
    "    DATA_STRING_INSERT = \"_INDEX\"\n",
    "    VMAX = IN_ROWS*IN_COLS\n",
    "elif TESTBENCH_TYPE==\"REAL_DATA\":\n",
    "    FP_FRAC = 13\n",
    "    FP_INT = 2\n",
    "    FP_TOTAL = FP_FRAC + FP_INT # UNSIGNED!\n",
    "    DATA_STRING_INSERT = \"\"\n",
    "    VMAX = 1\n",
    "elif TESTBENCH_TYPE==\"RANDOM\":\n",
    "    FP_FRAC = 13\n",
    "    FP_INT = 2\n",
    "    FP_TOTAL = FP_FRAC + FP_INT # UNSIGNED!\n",
    "    DATA_STRING_INSERT = \"_RANDOM\"\n",
    "    VMAX = 1\n",
    "else: raise NotImplementedError\n",
    "\n",
    "print(f\"IMG_COL_BITWIDTH: {IMG_COL_BITWIDTH}\")\n",
    "print(f\"IMG_ROW_BITWIDTH: {IMG_ROW_BITWIDTH}\")\n",
    "print(f\"FP_TOTAL: {FP_TOTAL}\")\n",
    "print(f\"FP_INT: {FP_INT}\")\n",
    "print(f\"FP_FRAC: {FP_FRAC}\")\n",
    "print(f\"DATA_STRING_INSERT: {DATA_STRING_INSERT}\")\n",
    "\n",
    "\n",
    "top_level_dir = os.path.join(\"/home/aelabd/RHEED/CoaxlinkQuadCxp12_1cam/tb_data_Mono8\", f\"{IN_ROWS}x{IN_COLS}_to_{OUT_ROWS}x{OUT_COLS}x{NUM_CROPS}\")\n",
    "os.makedirs(top_level_dir, exist_ok=True)"
   ]
  },
  {
   "cell_type": "markdown",
   "metadata": {},
   "source": [
    "Helper functions"
   ]
  },
  {
   "cell_type": "code",
   "execution_count": 3,
   "metadata": {},
   "outputs": [],
   "source": [
    "def generate_binary_numbers(n_bits):\n",
    "    return np.array([''.join(bits) for bits in itertools.product('01', repeat=n_bits)])\n",
    "\n",
    "def bin_to_int(bin_str):\n",
    "    int_val = 0\n",
    "    for i, bit in enumerate(bin_str[::-1]):\n",
    "        int_val += int(bit)*(2**i)\n",
    "    return int_val\n",
    "\n",
    "def bin_to_frac(bin_str):\n",
    "    frac_val = 0\n",
    "    for i, bit in enumerate(bin_str):\n",
    "        frac_val += int(bit)*(2**(-i-1))\n",
    "    return frac_val\n",
    "\n",
    "def frac_to_bin(frac, n_bits=FP_TOTAL):\n",
    "    bin_str = \"\"\n",
    "    for i in range(n_bits):\n",
    "        if frac >= 2**(-i-1):\n",
    "            bin_str += \"1\"\n",
    "            frac -= 2**(-i-1)\n",
    "        else:\n",
    "            bin_str += \"0\"\n",
    "    return bin_str"
   ]
  },
  {
   "cell_type": "markdown",
   "metadata": {},
   "source": [
    "## 1. Input data"
   ]
  },
  {
   "cell_type": "markdown",
   "metadata": {},
   "source": [
    "i.e. the un-cropped image"
   ]
  },
  {
   "cell_type": "code",
   "execution_count": 4,
   "metadata": {},
   "outputs": [],
   "source": [
    "img_precrop_seed = np.array(generate_binary_numbers(FP_TOTAL)).reshape(16,16)\n",
    "img_precrop_seed = np.concatenate([img_precrop_seed for i in range(IN_COLS//16)], axis=1)\n",
    "\n",
    "img_precrop = np.concatenate([img_precrop_seed for i in range(IN_ROWS//16)], axis=0)\n",
    "remainder = img_precrop_seed[:IN_ROWS-img_precrop.shape[0],:]\n",
    "img_precrop = np.concatenate((img_precrop, remainder), axis=0)"
   ]
  },
  {
   "cell_type": "code",
   "execution_count": 5,
   "metadata": {},
   "outputs": [
    {
     "name": "stdout",
     "output_type": "stream",
     "text": [
      "fpath_img_precrop: /home/aelabd/RHEED/CoaxlinkQuadCxp12_1cam/tb_data_Mono8/100x160_to_48x48x1/img_precrop_Mono8_INDEX.dat\n",
      "len(fpath_img_precrop): 102\n"
     ]
    }
   ],
   "source": [
    "fpath_img_precrop = os.path.join(top_level_dir, f\"img_precrop_Mono8{DATA_STRING_INSERT}.dat\")\n",
    "print(f\"fpath_img_precrop: {fpath_img_precrop}\")\n",
    "print(f\"len(fpath_img_precrop): {len(fpath_img_precrop)}\")\n",
    "\n",
    "with open(fpath_img_precrop, \"w\") as f:\n",
    "    for i in range(img_precrop.shape[0]):\n",
    "        if i!= 0:\n",
    "            f.write(\"\\n\")\n",
    "\n",
    "        row = img_precrop[i,:]\n",
    "        for j in range(img_precrop.shape[1]):\n",
    "            val = row[j]\n",
    "            val_hex = str(hex(int(val,2))).replace(\"0x\", \"\")\n",
    "            if len(val_hex) < 2:\n",
    "                new_val_hex = \"0\"*(2-len(val_hex))+val_hex\n",
    "                val_hex = new_val_hex\n",
    "            f.write(f\"{val_hex} \")\n",
    "            \n",
    "            # print(f\"val: {val}, val_hex: {val_hex}\")"
   ]
  },
  {
   "cell_type": "markdown",
   "metadata": {},
   "source": [
    "## 2. Post-crop"
   ]
  },
  {
   "cell_type": "code",
   "execution_count": 6,
   "metadata": {},
   "outputs": [],
   "source": [
    "Y1_range = [0, 29, IN_ROWS-OUT_ROWS]\n",
    "X1_range = [0, 53, IN_COLS-OUT_COLS]\n",
    "\n",
    "for Y1 in Y1_range:\n",
    "    Y2 = Y1+OUT_ROWS\n",
    "    for X1 in X1_range:\n",
    "        X2 = X1+OUT_COLS\n",
    "\n",
    "        img_postcrop_float = img_precrop[Y1:Y2, X1:X2]\n",
    "        fpath_img_postcrop_hex = os.path.join(top_level_dir, f\"Y1_{Y1}\", f\"X1_{X1}\", f\"img_postcrop{DATA_STRING_INSERT}.txt\")\n",
    "        os.makedirs(os.path.dirname(fpath_img_postcrop_hex), exist_ok=True)\n",
    "        with open(fpath_img_postcrop_hex, \"w\") as f:\n",
    "            for i, row in enumerate(img_postcrop_float):\n",
    "                if i > 0:\n",
    "                    f.write(\"\\n\")\n",
    "                for val in row:\n",
    "                    val_hex = str(hex(int(val,2))).replace(\"0x\", \"\")\n",
    "                    if len(val_hex) < 4:\n",
    "                        new_val_hex = \"0\"*(4-len(val_hex))+val_hex\n",
    "                        val_hex = new_val_hex\n",
    "                    f.write(f\"{val_hex} \")\n",
    "     "
   ]
  },
  {
   "cell_type": "markdown",
   "metadata": {},
   "source": [
    "## 3. Post-norm"
   ]
  },
  {
   "cell_type": "code",
   "execution_count": 7,
   "metadata": {},
   "outputs": [],
   "source": [
    "for Y1 in Y1_range:\n",
    "    Y2 = Y1+OUT_ROWS\n",
    "    for X1 in X1_range:\n",
    "        X2 = X1+OUT_COLS\n",
    "\n",
    "        img_postcrop = img_precrop[Y1:Y2, X1:X2]\n",
    "        img_postcrop_float = np.array([[bin_to_int(val) for val in row] for row in img_postcrop])\n",
    "\n",
    "        max_val = np.max(img_postcrop_float)\n",
    "        img_postnorm_float = (img_postcrop_float/max_val).astype(np.float64)\n",
    "        img_postnorm = np.array([[frac_to_bin(val, n_bits=FP_TOTAL) for val in row] for row in img_postnorm_float])\n",
    "\n",
    "        fpath_img_postnorm = os.path.join(top_level_dir, f\"Y1_{Y1}\", f\"X1_{X1}\", f\"img_postnorm{DATA_STRING_INSERT}.txt\")\n",
    "        os.makedirs(os.path.dirname(fpath_img_postcrop_hex), exist_ok=True)\n",
    "        with open(fpath_img_postnorm, \"w\") as f:\n",
    "            for i, row in enumerate(img_postnorm):\n",
    "                if i > 0:\n",
    "                    f.write(\"\\n\")\n",
    "                for val in row:\n",
    "                    val_hex = str(hex(int(val,2))).replace(\"0x\", \"\")\n",
    "                    if len(val_hex) < 4:\n",
    "                        new_val_hex = \"0\"*(4-len(val_hex))+val_hex\n",
    "                        val_hex = new_val_hex\n",
    "                    f.write(f\"{val_hex} \")"
   ]
  },
  {
   "cell_type": "code",
   "execution_count": null,
   "metadata": {},
   "outputs": [],
   "source": []
  }
 ],
 "metadata": {
  "kernelspec": {
   "display_name": "rheed_hls4ml_dev",
   "language": "python",
   "name": "python3"
  },
  "language_info": {
   "codemirror_mode": {
    "name": "ipython",
    "version": 3
   },
   "file_extension": ".py",
   "mimetype": "text/x-python",
   "name": "python",
   "nbconvert_exporter": "python",
   "pygments_lexer": "ipython3",
   "version": "3.10.15"
  }
 },
 "nbformat": 4,
 "nbformat_minor": 2
}
