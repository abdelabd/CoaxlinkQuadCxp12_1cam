{
 "cells": [
  {
   "cell_type": "markdown",
   "metadata": {},
   "source": [
    "# IMPORTANT: \n",
    "# You must also edit:\n",
    "# 1. 04_ref_design/sim/SimulationCtrl_tb.vhd \n",
    "# AND \n",
    "# 2. 04_ref_design/sim/Simulation_FileIO_pkg.vhd \n",
    "\n",
    "# !!!"
   ]
  },
  {
   "cell_type": "markdown",
   "metadata": {},
   "source": [
    "Mono8 can only represent pixel values about to 255, but the framegrabber requires **TODO**: explain what I'm doing here"
   ]
  },
  {
   "cell_type": "code",
   "execution_count": 1,
   "metadata": {},
   "outputs": [],
   "source": [
    "import os\n",
    "import numpy as np\n",
    "import matplotlib.pyplot as plt\n",
    "import itertools\n",
    "import copy\n",
    "from tqdm import tqdm\n",
    "\n",
    "np.random.seed(0)"
   ]
  },
  {
   "cell_type": "markdown",
   "metadata": {},
   "source": [
    "Globals"
   ]
  },
  {
   "cell_type": "code",
   "execution_count": 2,
   "metadata": {},
   "outputs": [
    {
     "name": "stdout",
     "output_type": "stream",
     "text": [
      "IMG_COL_BITWIDTH: 9\n",
      "IMG_ROW_BITWIDTH: 8\n",
      "FP_TOTAL: 8\n",
      "FP_INT: 8\n",
      "FP_FRAC: 0\n",
      "DATA_STRING_INSERT: _INDEX\n"
     ]
    }
   ],
   "source": [
    "IN_ROWS = 100 # NOTE: Must be a multiple of 16!\n",
    "IN_COLS = 160 # NOTE: Must be a multiple of 16!\n",
    "OUT_ROWS = 48\n",
    "OUT_COLS = 48\n",
    "IMG_COL_BITWIDTH = int(np.ceil(np.log2(IN_COLS+1))+1)\n",
    "IMG_ROW_BITWIDTH = int(np.ceil(np.log2(IN_ROWS+1))+1)\n",
    "NUM_CROPS = 5\n",
    "\n",
    "TESTBENCH_TYPE = \"VALUE_EQUALS_INDEX\"\n",
    "assert(TESTBENCH_TYPE in [\"VALUE_EQUALS_INDEX\"]) # [\"REAL_DATA\", \"VALUE_EQUALS_INDEX\", \"RANDOM\"])\n",
    "if TESTBENCH_TYPE==\"VALUE_EQUALS_INDEX\":\n",
    "    FP_FRAC = 0 # We just want integer values corresponding to the index of each pixel\n",
    "    FP_INT = 8 # int(np.log2(IN_ROWS*IN_COLS)) + 1 \n",
    "    FP_TOTAL = FP_FRAC + FP_INT # UNSIGNED!\n",
    "    DATA_STRING_INSERT = \"_INDEX\"\n",
    "    VMAX = IN_ROWS*IN_COLS\n",
    "elif TESTBENCH_TYPE==\"REAL_DATA\":\n",
    "    FP_FRAC = 13\n",
    "    FP_INT = 2\n",
    "    FP_TOTAL = FP_FRAC + FP_INT # UNSIGNED!\n",
    "    DATA_STRING_INSERT = \"\"\n",
    "    VMAX = 1\n",
    "elif TESTBENCH_TYPE==\"RANDOM\":\n",
    "    FP_FRAC = 13\n",
    "    FP_INT = 2\n",
    "    FP_TOTAL = FP_FRAC + FP_INT # UNSIGNED!\n",
    "    DATA_STRING_INSERT = \"_RANDOM\"\n",
    "    VMAX = 1\n",
    "else: raise NotImplementedError\n",
    "\n",
    "print(f\"IMG_COL_BITWIDTH: {IMG_COL_BITWIDTH}\")\n",
    "print(f\"IMG_ROW_BITWIDTH: {IMG_ROW_BITWIDTH}\")\n",
    "print(f\"FP_TOTAL: {FP_TOTAL}\")\n",
    "print(f\"FP_INT: {FP_INT}\")\n",
    "print(f\"FP_FRAC: {FP_FRAC}\")\n",
    "print(f\"DATA_STRING_INSERT: {DATA_STRING_INSERT}\")\n",
    "\n",
    "\n",
    "top_level_dir = os.path.join(\"/home/aelabd/RHEED/CoaxlinkQuadCxp12_1cam/tb_data_Mono8\", f\"{IN_ROWS}x{IN_COLS}_to_{OUT_ROWS}x{OUT_COLS}x{NUM_CROPS}\")\n",
    "os.makedirs(top_level_dir, exist_ok=True)"
   ]
  },
  {
   "cell_type": "markdown",
   "metadata": {},
   "source": [
    "Helper functions"
   ]
  },
  {
   "cell_type": "code",
   "execution_count": 3,
   "metadata": {},
   "outputs": [],
   "source": [
    "def generate_binary_numbers(n_bits):\n",
    "    return np.array([''.join(bits) for bits in itertools.product('01', repeat=n_bits)])\n",
    "\n",
    "def bin_to_int(bin_str):\n",
    "    int_val = 0\n",
    "    for i, bit in enumerate(bin_str[::-1]):\n",
    "        int_val += int(bit)*(2**i)\n",
    "    return int_val\n",
    "\n",
    "def bin_to_frac(bin_str):\n",
    "    frac_val = 0\n",
    "    for i, bit in enumerate(bin_str):\n",
    "        frac_val += int(bit)*(2**(-i-1))\n",
    "    return frac_val\n",
    "\n",
    "def frac_to_bin(frac, n_bits=FP_TOTAL):\n",
    "    bin_str = \"\"\n",
    "    for i in range(n_bits):\n",
    "        if frac >= 2**(-i-1):\n",
    "            bin_str += \"1\"\n",
    "            frac -= 2**(-i-1)\n",
    "        else:\n",
    "            bin_str += \"0\"\n",
    "    return bin_str\n",
    "\n",
    "def int_to_bin(int_num, n_bits):\n",
    "    bin_str = \"\"\n",
    "    for i in range(n_bits):\n",
    "        if int_num >= 2**(n_bits-i-1):\n",
    "            bin_str += \"1\"\n",
    "            int_num -= 2**(n_bits-i-1)\n",
    "        else:\n",
    "            bin_str += \"0\"\n",
    "    return bin_str"
   ]
  },
  {
   "cell_type": "markdown",
   "metadata": {},
   "source": [
    "## 1. Input data"
   ]
  },
  {
   "cell_type": "markdown",
   "metadata": {},
   "source": [
    "i.e. the un-cropped image"
   ]
  },
  {
   "cell_type": "code",
   "execution_count": 4,
   "metadata": {},
   "outputs": [
    {
     "name": "stdout",
     "output_type": "stream",
     "text": [
      "img_precrop.shape: (100, 160)\n"
     ]
    },
    {
     "data": {
      "image/png": "[encoded data removed]",
      "text/plain": [
       "<Figure size 640x480 with 1 Axes>"
      ]
     },
     "metadata": {},
     "output_type": "display_data"
    }
   ],
   "source": [
    "n_box_each_side = int(np.floor(np.sqrt(2**FP_INT)))\n",
    "\n",
    "width_x_box = IN_COLS//n_box_each_side + 1\n",
    "x_edges = []\n",
    "x = 0\n",
    "while x < IN_COLS:\n",
    "    x_edges.append(x)\n",
    "    x += width_x_box\n",
    "\n",
    "width_y_box = IN_ROWS//n_box_each_side + 1\n",
    "y_edges = []\n",
    "y = 0\n",
    "while y < IN_ROWS:\n",
    "    y_edges.append(y)\n",
    "    y += width_y_box\n",
    "\n",
    "\n",
    "img_precrop_float = np.zeros((IN_ROWS, IN_COLS))\n",
    "idx = 0\n",
    "for y1 in y_edges:\n",
    "    y2 = y1 + width_y_box\n",
    "    for x1 in x_edges:\n",
    "        x2 = x1 + width_x_box\n",
    "        img_precrop_float[y1:y2, x1:x2] = idx\n",
    "        idx += 1\n",
    "VMAX = idx\n",
    "\n",
    "img_precrop = []\n",
    "for i in range(img_precrop_float.shape[0]):\n",
    "    img_precrop_i = []\n",
    "    for j in range(img_precrop_float.shape[1]):\n",
    "        img_precrop_i.append(int_to_bin(img_precrop_float[i,j], FP_INT))\n",
    "\n",
    "    img_precrop.append(img_precrop_i)\n",
    "img_precrop = np.array(img_precrop)\n",
    "\n",
    "print(f\"img_precrop.shape: {img_precrop.shape}\")\n",
    "\n",
    "plt.figure()\n",
    "plt.imshow(img_precrop_float, cmap='hot', vmin=0, vmax=VMAX)\n",
    "plt.show()\n",
    "plt.close()"
   ]
  },
  {
   "cell_type": "code",
   "execution_count": 5,
   "metadata": {},
   "outputs": [
    {
     "name": "stdout",
     "output_type": "stream",
     "text": [
      "fpath_img_precrop: /home/aelabd/RHEED/CoaxlinkQuadCxp12_1cam/tb_data_Mono8/100x160_to_48x48x5/img_precrop_Mono8_INDEX.dat\n",
      "len(fpath_img_precrop): 102\n"
     ]
    }
   ],
   "source": [
    "fpath_img_precrop = os.path.join(top_level_dir, f\"img_precrop_Mono8{DATA_STRING_INSERT}.dat\")\n",
    "print(f\"fpath_img_precrop: {fpath_img_precrop}\")\n",
    "print(f\"len(fpath_img_precrop): {len(fpath_img_precrop)}\")\n",
    "\n",
    "with open(fpath_img_precrop, \"w\") as f:\n",
    "    for i in range(img_precrop.shape[0]):\n",
    "        if i!= 0:\n",
    "            f.write(\"\\n\")\n",
    "\n",
    "        row = img_precrop[i,:]\n",
    "        for j in range(img_precrop.shape[1]):\n",
    "            val = row[j]\n",
    "            val_hex = str(hex(int(val,2))).replace(\"0x\", \"\")\n",
    "            if len(val_hex) < 2:\n",
    "                new_val_hex = \"0\"*(2-len(val_hex))+val_hex\n",
    "                val_hex = new_val_hex\n",
    "            f.write(f\"{val_hex} \")\n",
    "            \n",
    "            # print(f\"val: {val}, val_hex: {val_hex}\")"
   ]
  },
  {
   "cell_type": "markdown",
   "metadata": {},
   "source": [
    "## 2. Post-crop"
   ]
  },
  {
   "cell_type": "code",
   "execution_count": 6,
   "metadata": {},
   "outputs": [],
   "source": [
    "def plot_borders_norm(ax, crop_boxes_norm, image_size=(100, 160)):\n",
    "    num_blobs = crop_boxes_norm.shape[0]\n",
    "    for j in range(num_blobs):\n",
    "        cbn = crop_boxes_norm[j].copy()\n",
    "        y1, x1, y2, x2 = cbn\n",
    "        y1 *= image_size[0]\n",
    "        x1 *= image_size[1]\n",
    "        y2 *= image_size[0]\n",
    "        x2 *= image_size[1]\n",
    "\n",
    "        ax.plot([x1, x2], [y1, y1], color='blue') # top border\n",
    "        ax.plot([x1, x1], [y1, y2], color='blue') # left border\n",
    "        ax.plot([x1, x2], [y2, y2], color='blue') # bottom border\n",
    "        if j==0:\n",
    "            ax.plot([x2, x2], [y1, y2], color='blue', label=\"Bounding box\") # right\n",
    "        else:\n",
    "            ax.plot([x2, x2], [y1, y2], color='blue') # right\n",
    "    ax.legend()"
   ]
  },
  {
   "cell_type": "code",
   "execution_count": 7,
   "metadata": {},
   "outputs": [
    {
     "data": {
      "image/png": "[encoded data removed]",
      "text/plain": [
       "<Figure size 640x480 with 1 Axes>"
      ]
     },
     "metadata": {},
     "output_type": "display_data"
    }
   ],
   "source": [
    "TOP_LEFT_Y1X1 = [(10,10),\n",
    "                (10,37),    # 0<-->1 left-right overlap \n",
    "                (23,10),   # 1<-->2 top-bottom overlap\n",
    "                (43,53),     # 1<-->3 bottom-right corner overlap\n",
    "                (52, 99)     # 4 by itself, no overlap\n",
    "                ]\n",
    "\n",
    "crop_boxes_norm = []\n",
    "for (y1,x1) in TOP_LEFT_Y1X1:\n",
    "    y2 = y1 + OUT_ROWS\n",
    "    y1 *= 1/IN_ROWS\n",
    "    y2 *= 1/IN_ROWS\n",
    "\n",
    "    x2 = x1 + OUT_COLS\n",
    "    x1 *= 1/IN_COLS\n",
    "    x2 *= 1/IN_COLS\n",
    "    cbn = [y1, x1, y2, x2]\n",
    "    crop_boxes_norm.append(cbn)\n",
    "crop_boxes_norm = np.array(crop_boxes_norm)\n",
    "\n",
    "fig, ax = plt.subplots(1)\n",
    "ax.imshow(img_precrop_float, cmap='hot', vmin=0, vmax=VMAX)\n",
    "plot_borders_norm(ax, crop_boxes_norm)\n",
    "plt.show()\n",
    "plt.close()"
   ]
  },
  {
   "cell_type": "code",
   "execution_count": 8,
   "metadata": {},
   "outputs": [],
   "source": [
    "for (Y1, X1) in TOP_LEFT_Y1X1:\n",
    "    Y2 = Y1+OUT_ROWS\n",
    "    X2 = X1+OUT_COLS\n",
    "\n",
    "    img_postcrop_float = img_precrop[Y1:Y2, X1:X2]\n",
    "    fpath_img_postcrop_hex = os.path.join(top_level_dir, f\"Y1_{Y1}_X1_{X1}\", f\"img_postcrop{DATA_STRING_INSERT}.txt\")\n",
    "    os.makedirs(os.path.dirname(fpath_img_postcrop_hex), exist_ok=True)\n",
    "    with open(fpath_img_postcrop_hex, \"w\") as f:\n",
    "        for i, row in enumerate(img_postcrop_float):\n",
    "            if i > 0:\n",
    "                f.write(\"\\n\")\n",
    "            for val in row:\n",
    "                val_hex = str(hex(int(val,2))).replace(\"0x\", \"\")\n",
    "                if len(val_hex) < 2:\n",
    "                    new_val_hex = \"0\"*(2-len(val_hex))+val_hex\n",
    "                    val_hex = new_val_hex\n",
    "                f.write(f\"{val_hex} \")"
   ]
  },
  {
   "cell_type": "markdown",
   "metadata": {},
   "source": [
    "## 3. Post-norm"
   ]
  },
  {
   "cell_type": "code",
   "execution_count": 9,
   "metadata": {},
   "outputs": [],
   "source": [
    "for (Y1, X1) in TOP_LEFT_Y1X1:\n",
    "    Y2 = Y1+OUT_ROWS\n",
    "    X2 = X1+OUT_COLS\n",
    "\n",
    "    img_postcrop = img_precrop[Y1:Y2, X1:X2]\n",
    "    img_postcrop_float = np.array([[bin_to_int(val) for val in row] for row in img_postcrop])\n",
    "\n",
    "    # print(f\"\\n\\n(Y1,Y2) = {(Y1, Y2)}\")\n",
    "    # print(f\"(X1, X2) = {(X1,X2)}\")\n",
    "    # print(f\"img_postcrop: {img_postcrop}\")\n",
    "    # print(f\"img_postcrop_float: {img_postcrop_float}\")\n",
    "\n",
    "    max_val = np.max(img_postcrop_float)\n",
    "    img_postnorm_float = (img_postcrop_float/max_val).astype(np.float64)\n",
    "    img_postnorm = np.array([[frac_to_bin(val, n_bits=FP_TOTAL) for val in row] for row in img_postnorm_float])\n",
    "\n",
    "    fpath_img_postnorm = os.path.join(top_level_dir, f\"Y1_{Y1}_X1_{X1}\", f\"img_postnorm{DATA_STRING_INSERT}.txt\")\n",
    "    os.makedirs(os.path.dirname(fpath_img_postcrop_hex), exist_ok=True)\n",
    "    with open(fpath_img_postnorm, \"w\") as f:\n",
    "        for i, row in enumerate(img_postnorm):\n",
    "            if i > 0:\n",
    "                f.write(\"\\n\")\n",
    "            for val in row:\n",
    "                val_hex = str(hex(int(val,2))).replace(\"0x\", \"\")\n",
    "                if len(val_hex) < 2:\n",
    "                    new_val_hex = \"0\"*(2-len(val_hex))+val_hex\n",
    "                    val_hex = new_val_hex\n",
    "                f.write(f\"{val_hex} \")"
   ]
  },
  {
   "cell_type": "code",
   "execution_count": null,
   "metadata": {},
   "outputs": [],
   "source": []
  }
 ],
 "metadata": {
  "kernelspec": {
   "display_name": "rheed_hls4ml_dev",
   "language": "python",
   "name": "python3"
  },
  "language_info": {
   "codemirror_mode": {
    "name": "ipython",
    "version": 3
   },
   "file_extension": ".py",
   "mimetype": "text/x-python",
   "name": "python",
   "nbconvert_exporter": "python",
   "pygments_lexer": "ipython3",
   "version": "3.10.15"
  }
 },
 "nbformat": 4,
 "nbformat_minor": 2
}
