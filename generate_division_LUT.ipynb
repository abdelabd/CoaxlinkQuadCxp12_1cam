{
 "cells": [
  {
   "cell_type": "markdown",
   "metadata": {},
   "source": [
    "Generates the following LUT:\n",
    "\n",
    "LUT[N-bit, unsigned, fully integer binary number] = N-bit, unsigned, fully *fractional* binary number"
   ]
  },
  {
   "cell_type": "code",
   "execution_count": 1,
   "metadata": {},
   "outputs": [
    {
     "name": "stdout",
     "output_type": "stream",
     "text": [
      "MAX_VAL_OUT_FLOAT: 0.99609375\n"
     ]
    }
   ],
   "source": [
    "import os\n",
    "import itertools\n",
    "import numpy as np\n",
    "import copy\n",
    "from tqdm import tqdm\n",
    "\n",
    "# global variables\n",
    "N_BITS = 8\n",
    "\n",
    "MAX_VAL_OUT_BIN = \"1\"*N_BITS\n",
    "MAX_VAL_OUT_FLOAT = 0\n",
    "for i in range(N_BITS):\n",
    "    MAX_VAL_OUT_FLOAT += 2**(-i-1)\n",
    "    # print(f\"MAX_VAL_OUT_FLOAT: {MAX_VAL_OUT_FLOAT}\")\n",
    "\n",
    "print(f\"MAX_VAL_OUT_FLOAT: {MAX_VAL_OUT_FLOAT}\")\n",
    "np.random.seed(0)"
   ]
  },
  {
   "cell_type": "markdown",
   "metadata": {},
   "source": [
    "Helper functions"
   ]
  },
  {
   "cell_type": "code",
   "execution_count": 2,
   "metadata": {},
   "outputs": [],
   "source": [
    "def generate_binary_numbers(n_bits):\n",
    "    return np.array([''.join(bits) for bits in itertools.product('01', repeat=n_bits)])\n",
    "\n",
    "def bin_to_int(bin_str):\n",
    "    int_val = 0\n",
    "    for i, bit in enumerate(bin_str[::-1]):\n",
    "        int_val += int(bit)*(2**i)\n",
    "    return int_val\n",
    "\n",
    "def bin_to_frac(bin_str):\n",
    "    frac_val = 0\n",
    "    for i, bit in enumerate(bin_str):\n",
    "        frac_val += int(bit)*(2**(-i-1))\n",
    "    return frac_val\n",
    "\n",
    "def frac_to_bin(frac):\n",
    "    bin_str = \"\"\n",
    "    for i in range(N_BITS):\n",
    "        if frac >= 2**(-i-1):\n",
    "            bin_str += \"1\"\n",
    "            frac -= 2**(-i-1)\n",
    "        else:\n",
    "            bin_str += \"0\"\n",
    "    return bin_str"
   ]
  },
  {
   "cell_type": "markdown",
   "metadata": {},
   "source": [
    "## 1. Generate keys "
   ]
  },
  {
   "cell_type": "code",
   "execution_count": 3,
   "metadata": {},
   "outputs": [],
   "source": [
    "keys = generate_binary_numbers(N_BITS)"
   ]
  },
  {
   "cell_type": "markdown",
   "metadata": {},
   "source": [
    "## 2. Generate values"
   ]
  },
  {
   "cell_type": "code",
   "execution_count": 4,
   "metadata": {},
   "outputs": [],
   "source": [
    "reciprocal_LUT_dict = {}\n",
    "for val_bin in keys:\n",
    "    val_int = bin_to_int(val_bin)\n",
    "    reciprocal_val_frac = 1/(val_int+1)\n",
    "    reciprocal_val_bin = frac_to_bin(reciprocal_val_frac)\n",
    "    reciprocal_LUT_dict[val_bin] = reciprocal_val_bin"
   ]
  },
  {
   "cell_type": "markdown",
   "metadata": {},
   "source": [
    "## Write to verilog LUT module"
   ]
  },
  {
   "cell_type": "code",
   "execution_count": 5,
   "metadata": {},
   "outputs": [],
   "source": [
    "rtl_dir = \"04_ref_design\"\n",
    "template_fpath = os.path.join(rtl_dir, \"division_LUT_template.sv\")\n",
    "with open(template_fpath, \"r\") as f:\n",
    "    template = f.read()"
   ]
  },
  {
   "cell_type": "code",
   "execution_count": 6,
   "metadata": {},
   "outputs": [
    {
     "name": "stdout",
     "output_type": "stream",
     "text": [
      "False\n",
      "True\n"
     ]
    }
   ],
   "source": [
    "print(\"00000000\" in list(reciprocal_LUT_dict.values()))\n",
    "print(\"00000001\" in list(reciprocal_LUT_dict.values()))\n"
   ]
  },
  {
   "cell_type": "code",
   "execution_count": 7,
   "metadata": {},
   "outputs": [],
   "source": [
    "module_rtl = template.replace(\"{N_BITS}\", str(N_BITS))\n",
    "module_rtl_top, module_rtl_bottom = module_rtl.split(\"// INSERT LUT HERE\")\n",
    "module_rtl_lines = [module_rtl_top]\n",
    "\n",
    "for k,v in reciprocal_LUT_dict.items():\n",
    "    line = f\"        {N_BITS}'b{k} : reciprocal = {N_BITS}'b{v};\\n\"\n",
    "    if v==\"0\"*(N_BITS-1)+\"1\":\n",
    "        line = f\"        default : reciprocal = {N_BITS}'b{v};\\n\"\n",
    "        module_rtl_lines.append(line)\n",
    "        break\n",
    "        \n",
    "    module_rtl_lines.append(line)\n",
    "\n",
    "module_rtl_lines.append(module_rtl_bottom)\n",
    "\n",
    "module_rtl = \"\".join(module_rtl_lines)"
   ]
  },
  {
   "cell_type": "code",
   "execution_count": 8,
   "metadata": {},
   "outputs": [],
   "source": [
    "module_fpath = os.path.join(rtl_dir, f\"udivision_LUT_{N_BITS}bit_int_to_{N_BITS}bit_frac.sv\")\n",
    "with open(module_fpath, \"w\") as f:\n",
    "    f.write(module_rtl)"
   ]
  }
 ],
 "metadata": {
  "kernelspec": {
   "display_name": "rheed_hls4ml_dev",
   "language": "python",
   "name": "python3"
  },
  "language_info": {
   "codemirror_mode": {
    "name": "ipython",
    "version": 3
   },
   "file_extension": ".py",
   "mimetype": "text/x-python",
   "name": "python",
   "nbconvert_exporter": "python",
   "pygments_lexer": "ipython3",
   "version": "3.10.15"
  }
 },
 "nbformat": 4,
 "nbformat_minor": 2
}
