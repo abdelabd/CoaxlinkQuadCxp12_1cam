{
 "cells": [
  {
   "cell_type": "markdown",
   "metadata": {},
   "source": [
    "Generates the following LUT:\n",
    "\n",
    "LUT[N-bit, unsigned, fully integer binary number] = N-bit, unsigned, fully *fractional* binary number"
   ]
  },
  {
   "cell_type": "code",
   "execution_count": 1,
   "metadata": {},
   "outputs": [
    {
     "name": "stdout",
     "output_type": "stream",
     "text": [
      "MAX_VAL_IN_INT: 255\n",
      "MAX_VAL_OUT_FLOAT: 0.9999999403953552\n",
      "MIN_VAL_OUT_FRAC: 2.9802322387695312e-08\n"
     ]
    }
   ],
   "source": [
    "import os\n",
    "import itertools\n",
    "import numpy as np\n",
    "import copy\n",
    "from tqdm import tqdm\n",
    "\n",
    "# global variables\n",
    "N_BITS_IN = 8\n",
    "N_BITS_OUT = 24\n",
    "\n",
    "MAX_VAL_IN_BIN = \"1\"*N_BITS_IN\n",
    "MAX_VAL_IN_INT = 0\n",
    "for i in range(N_BITS_IN):\n",
    "    MAX_VAL_IN_INT += 2**i\n",
    "print(f\"MAX_VAL_IN_INT: {MAX_VAL_IN_INT}\")\n",
    "\n",
    "MAX_VAL_OUT_BIN = \"1\"*N_BITS_OUT\n",
    "MAX_VAL_OUT_FRAC = 0\n",
    "for i in range(N_BITS_OUT):\n",
    "    MAX_VAL_OUT_FRAC += 2**(-i-1)\n",
    "print(f\"MAX_VAL_OUT_FLOAT: {MAX_VAL_OUT_FRAC}\")\n",
    "MIN_VAL_OUT_FRAC = 2**(-N_BITS_OUT-1)\n",
    "print(f\"MIN_VAL_OUT_FRAC: {MIN_VAL_OUT_FRAC}\")\n",
    "\n",
    "np.random.seed(0)"
   ]
  },
  {
   "cell_type": "markdown",
   "metadata": {},
   "source": [
    "Helper functions"
   ]
  },
  {
   "cell_type": "code",
   "execution_count": 2,
   "metadata": {},
   "outputs": [],
   "source": [
    "def generate_binary_numbers(n_bits):\n",
    "    return np.array([''.join(bits) for bits in itertools.product('01', repeat=n_bits)])\n",
    "\n",
    "def bin_to_int(bin_str):\n",
    "    int_val = 0\n",
    "    for i, bit in enumerate(bin_str[::-1]):\n",
    "        int_val += int(bit)*(2**i)\n",
    "    return int_val\n",
    "\n",
    "def bin_to_frac(bin_str):\n",
    "    frac_val = 0\n",
    "    for i, bit in enumerate(bin_str):\n",
    "        frac_val += int(bit)*(2**(-i-1))\n",
    "    return frac_val\n",
    "\n",
    "def frac_to_bin(frac, n_bits):\n",
    "    bin_str = \"\"\n",
    "    for i in range(n_bits):\n",
    "        if frac >= 2**(-i-1):\n",
    "            bin_str += \"1\"\n",
    "            frac -= 2**(-i-1)\n",
    "        else:\n",
    "            bin_str += \"0\"\n",
    "    return bin_str"
   ]
  },
  {
   "cell_type": "markdown",
   "metadata": {},
   "source": [
    "## 1. Generate keys "
   ]
  },
  {
   "cell_type": "code",
   "execution_count": 3,
   "metadata": {},
   "outputs": [],
   "source": [
    "keys = generate_binary_numbers(N_BITS_IN)"
   ]
  },
  {
   "cell_type": "markdown",
   "metadata": {},
   "source": [
    "## 2. Generate values"
   ]
  },
  {
   "cell_type": "code",
   "execution_count": 4,
   "metadata": {},
   "outputs": [],
   "source": [
    "reciprocal_LUT_dict = {}\n",
    "for val_bin in keys:\n",
    "    val_int = bin_to_int(val_bin)\n",
    "    reciprocal_val_frac = 1/(val_int+1)\n",
    "    reciprocal_val_bin = frac_to_bin(reciprocal_val_frac, n_bits=N_BITS_OUT)\n",
    "    reciprocal_LUT_dict[val_bin] = reciprocal_val_bin"
   ]
  },
  {
   "cell_type": "markdown",
   "metadata": {},
   "source": [
    "## Write to verilog LUT module"
   ]
  },
  {
   "cell_type": "code",
   "execution_count": 5,
   "metadata": {},
   "outputs": [],
   "source": [
    "rtl_dir = \"04_ref_design\"\n",
    "template_fpath = os.path.join(rtl_dir, \"udivision_LUT_template.sv\")\n",
    "with open(template_fpath, \"r\") as f:\n",
    "    template = f.read()"
   ]
  },
  {
   "cell_type": "code",
   "execution_count": 6,
   "metadata": {},
   "outputs": [],
   "source": [
    "module_rtl = template.replace(\"{N_BITS_IN}\", str(N_BITS_IN)).replace(\"{N_BITS_OUT}\", str(N_BITS_OUT))\n",
    "module_rtl_top, module_rtl_bottom = module_rtl.split(\"// INSERT LUT HERE\")\n",
    "module_rtl_lines = [module_rtl_top]\n",
    "\n",
    "for k,v in reciprocal_LUT_dict.items():\n",
    "    line = f\"        {N_BITS_IN}'b{k} : reciprocal_reg = {N_BITS_OUT}'b{v};\\n\"\n",
    "    module_rtl_lines.append(line)\n",
    "\n",
    "module_rtl_lines.append(module_rtl_bottom)\n",
    "module_rtl = \"\".join(module_rtl_lines)"
   ]
  },
  {
   "cell_type": "code",
   "execution_count": 7,
   "metadata": {},
   "outputs": [],
   "source": [
    "module_fpath = os.path.join(rtl_dir, f\"udivision_LUT_{N_BITS_IN}bit_int_to_{N_BITS_OUT}bit_frac.sv\")\n",
    "with open(module_fpath, \"w\") as f:\n",
    "    f.write(module_rtl)"
   ]
  },
  {
   "cell_type": "code",
   "execution_count": null,
   "metadata": {},
   "outputs": [],
   "source": []
  },
  {
   "cell_type": "code",
   "execution_count": null,
   "metadata": {},
   "outputs": [],
   "source": []
  }
 ],
 "metadata": {
  "kernelspec": {
   "display_name": "rheed_hls4ml_dev",
   "language": "python",
   "name": "python3"
  },
  "language_info": {
   "codemirror_mode": {
    "name": "ipython",
    "version": 3
   },
   "file_extension": ".py",
   "mimetype": "text/x-python",
   "name": "python",
   "nbconvert_exporter": "python",
   "pygments_lexer": "ipython3",
   "version": "3.10.15"
  }
 },
 "nbformat": 4,
 "nbformat_minor": 2
}
