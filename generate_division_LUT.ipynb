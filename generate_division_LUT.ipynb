{
 "cells": [
  {
   "cell_type": "markdown",
   "metadata": {},
   "source": [
    "We already have testbenched the crop extensively - assume it works. \n",
    "\n",
    "What we want now is data that, when max-normalized in ap_fixed<16,11>, won't just go to zero."
   ]
  },
  {
   "cell_type": "code",
   "execution_count": 1,
   "metadata": {},
   "outputs": [],
   "source": [
    "import os\n",
    "import copy\n",
    "from pathlib import Path\n",
    "import json\n",
    "import numpy as np\n",
    "import matplotlib.pyplot as plt\n",
    "from tqdm import tqdm\n",
    "\n",
    "import h5py\n",
    "from sklearn.preprocessing import StandardScaler\n",
    "from scipy.optimize import least_squares\n",
    "\n",
    "np.random.seed(0)\n"
   ]
  },
  {
   "cell_type": "markdown",
   "metadata": {},
   "source": [
    "Globals"
   ]
  },
  {
   "cell_type": "code",
   "execution_count": 2,
   "metadata": {},
   "outputs": [],
   "source": [
    "FP_TOTAL = 16\n",
    "FP_INT = 10\n",
    "FP_FRAC = FP_TOTAL-FP_INT-1\n",
    "LUT_BITS = FP_TOTAL-1 # number of bits to index LUT\n",
    "NUM_ROWS = 2**LUT_BITS"
   ]
  },
  {
   "cell_type": "markdown",
   "metadata": {},
   "source": [
    "Helper functions"
   ]
  },
  {
   "cell_type": "code",
   "execution_count": 3,
   "metadata": {},
   "outputs": [],
   "source": [
    "def float_to_fixed_point(value: float, total_bits: int, fractional_bits: int) -> str:\n",
    "    \"\"\"\n",
    "    Convert a float to a fixed-point binary representation.\n",
    "    \n",
    "    :param value: Float value to convert.\n",
    "    :param total_bits: Total number of bits for the representation.\n",
    "    :param fractional_bits: Number of fractional bits.\n",
    "    :return: Fixed-point binary string.\n",
    "    \"\"\"\n",
    "    scale = 2 ** fractional_bits\n",
    "    fixed_point_value = int(round(value * scale))\n",
    "    \n",
    "    # Handle two's complement representation for negative numbers\n",
    "    if fixed_point_value < 0:\n",
    "        fixed_point_value = (1 << total_bits) + fixed_point_value\n",
    "    \n",
    "    return f\"{fixed_point_value:0{total_bits}b}\"\n",
    "\n",
    "\n",
    "def fixed_point_to_float(binary: str, fractional_bits: int) -> float:\n",
    "    \"\"\"\n",
    "    Convert a fixed-point binary representation to a float.\n",
    "    \n",
    "    :param binary: Fixed-point binary string.\n",
    "    :param fractional_bits: Number of fractional bits.\n",
    "    :return: Float value.\n",
    "    \"\"\"\n",
    "    total_bits = len(binary)\n",
    "    int_value = int(binary, 2)\n",
    "    \n",
    "    # Handle two's complement for negative numbers\n",
    "    if int_value >= (1 << (total_bits - 1)):\n",
    "        int_value -= (1 << total_bits)\n",
    "    \n",
    "    return int_value / (2 ** fractional_bits)"
   ]
  },
  {
   "cell_type": "code",
   "execution_count": 4,
   "metadata": {},
   "outputs": [],
   "source": [
    "# for val_int in range(1,10): #range(2**FP_TOTAL):\n",
    "reciprocal_LUT = {}\n",
    "for val_int in range(1,2**(LUT_BITS)):\n",
    "\n",
    "    val_bin = float_to_fixed_point(val_int, LUT_BITS, 0)\n",
    "\n",
    "    val_float = fixed_point_to_float(val_bin + \"0\"*(FP_TOTAL-LUT_BITS), FP_FRAC)\n",
    "    val_reciprocal_float = 1/val_float\n",
    "    val_reciprocal_fixed = float_to_fixed_point(val_reciprocal_float, FP_TOTAL, FP_FRAC)\n",
    "\n",
    "    # print(f\"val_bin: {val_bin}, val_float: {val_float}, val_reciprocal_float: {val_reciprocal_float}, val_reciprocal_fixed: {val_reciprocal_fixed}\")\n",
    "    reciprocal_LUT[val_bin] = val_reciprocal_fixed\n",
    "\n",
    "\n",
    "    val_bin = float_to_fixed_point(-val_int, LUT_BITS, 0)\n",
    "\n",
    "    val_float = fixed_point_to_float(val_bin + \"0\"*(FP_TOTAL-LUT_BITS), FP_FRAC)\n",
    "    val_reciprocal_float = 1/val_float\n",
    "    val_reciprocal_fixed = float_to_fixed_point(val_reciprocal_float, FP_TOTAL, FP_FRAC)\n",
    "\n",
    "    reciprocal_LUT[val_bin] = val_reciprocal_fixed"
   ]
  },
  {
   "cell_type": "code",
   "execution_count": 5,
   "metadata": {},
   "outputs": [],
   "source": [
    "rtl_dir = \"04_ref_design\"\n",
    "template_fpath = os.path.join(rtl_dir, \"division_LUT_template.sv\")\n",
    "with open(template_fpath, \"r\") as f:\n",
    "    template = f.read()"
   ]
  },
  {
   "cell_type": "code",
   "execution_count": 6,
   "metadata": {},
   "outputs": [],
   "source": [
    "module_rtl = template.replace(\"{FP_TOTAL}\", str(FP_TOTAL))\n",
    "module_rtl = module_rtl.replace(\"{FP_TOTAL-1}\", str(FP_TOTAL-1))\n",
    "module_rtl = module_rtl.replace(\"{FP_INT}\", str(FP_INT))\n",
    "module_rtl = module_rtl.replace(\"{NUM_ROWS-1}\", str(NUM_ROWS-1))\n",
    "module_rtl = module_rtl.replace(\"{LUT_BITS}\", str(LUT_BITS))\n",
    "module_rtl = module_rtl.replace(\"{LUT_BITS-1}\", str(LUT_BITS-1))\n",
    "module_rtl_top, module_rtl_bottom = module_rtl.split(\"// INSERT LUT HERE\")\n",
    "module_rtl_lines = [module_rtl_top]\n",
    "\n",
    "for k,v in reciprocal_LUT.items():\n",
    "    if v[0]==\"1\": continue\n",
    "    line = f\"        {LUT_BITS}'b{k} : reciprocal = {FP_TOTAL}'b{v};\\n\"\n",
    "    if v==\"0\"*FP_TOTAL:\n",
    "        line = f\"        default : reciprocal = {FP_TOTAL}'b{v};\\n\"\n",
    "        module_rtl_lines.append(line)\n",
    "        break\n",
    "        \n",
    "    module_rtl_lines.append(line)\n",
    "\n",
    "for k,v in reciprocal_LUT.items():\n",
    "    if v[0]==\"0\": continue\n",
    "    line = f\"        {LUT_BITS}'b{k} : reciprocal = {v};\\n\"\n",
    "    module_rtl_lines.append(line)\n",
    "\n",
    "module_rtl_lines.append(module_rtl_bottom)\n",
    "\n",
    "module_rtl = \"\".join(module_rtl_lines)"
   ]
  },
  {
   "cell_type": "code",
   "execution_count": 7,
   "metadata": {},
   "outputs": [],
   "source": [
    "module_fpath = os.path.join(rtl_dir, f\"division_LUT_ap_fixed_{FP_TOTAL}_{FP_INT}_s{LUT_BITS}.sv\")\n",
    "with open(module_fpath, \"w\") as f:\n",
    "    f.write(module_rtl)"
   ]
  },
  {
   "cell_type": "code",
   "execution_count": null,
   "metadata": {},
   "outputs": [],
   "source": []
  },
  {
   "cell_type": "code",
   "execution_count": 8,
   "metadata": {},
   "outputs": [
    {
     "name": "stdout",
     "output_type": "stream",
     "text": [
      "den_test_bin_values:\n",
      "0000000010100000\n",
      "0000000011100000\n",
      "0000000101100000\n",
      "0000001000100000\n",
      "0000001111100000\n",
      "0000010100100000\n",
      "0000010101100000\n",
      "0000010111100000\n",
      "0000011110100000\n",
      "0000100001100000\n"
     ]
    }
   ],
   "source": [
    "den_test_values = [5, 7, 11, 17, 31, 41, 43, 47, 61,  67]\n",
    "den_test_bin_values = [float_to_fixed_point(i, FP_TOTAL, FP_FRAC) for i in den_test_values]\n",
    "\n",
    "print(f\"den_test_bin_values:\")\n",
    "for i in den_test_bin_values: print(i)\n"
   ]
  },
  {
   "cell_type": "code",
   "execution_count": 9,
   "metadata": {},
   "outputs": [
    {
     "name": "stdout",
     "output_type": "stream",
     "text": [
      "den_test_int_values: [160, 224, 352, 544, 992, 1312, 1376, 1504, 1952, 2144]\n",
      "out_test_int_values: [6, 5, 3, 2, 1, 1, 1, 1, 1, 0]\n"
     ]
    }
   ],
   "source": [
    "den_test_int_values = [int(fixed_point_to_float(float_to_fixed_point(i, FP_TOTAL, FP_FRAC),0)) for i in den_test_values]\n",
    "out_test_int_values = [int(fixed_point_to_float(float_to_fixed_point(1/i, FP_TOTAL, FP_FRAC),0)) for i in den_test_values]\n",
    "\n",
    "print(f\"den_test_int_values: {den_test_int_values}\")\n",
    "print(f\"out_test_int_values: {out_test_int_values}\")"
   ]
  },
  {
   "cell_type": "code",
   "execution_count": 10,
   "metadata": {},
   "outputs": [
    {
     "name": "stdout",
     "output_type": "stream",
     "text": [
      "den_test: 0000100001100000 := int 2144\n",
      "out_test: 0000000110000000 := int 384\n",
      "out_test: 0110010010000000 := int 25728\n"
     ]
    }
   ],
   "source": [
    "a_test = 67\n",
    "b_test = 12\n",
    "c_test = a_test*b_test\n",
    "\n",
    "print(f\"den_test: {float_to_fixed_point(a_test, FP_TOTAL, FP_FRAC)} := int {int(fixed_point_to_float(float_to_fixed_point(a_test, FP_TOTAL, FP_FRAC), 0))}\")\n",
    "print(f\"out_test: {float_to_fixed_point(b_test, FP_TOTAL, FP_FRAC)} := int {int(fixed_point_to_float(float_to_fixed_point(b_test, FP_TOTAL, FP_FRAC), 0))}\")\n",
    "print(f\"out_test: {float_to_fixed_point(c_test, FP_TOTAL, FP_FRAC)} := int {int(fixed_point_to_float(float_to_fixed_point(c_test, FP_TOTAL, FP_FRAC), 0))}\")\n",
    "\n"
   ]
  },
  {
   "cell_type": "code",
   "execution_count": 11,
   "metadata": {},
   "outputs": [
    {
     "name": "stdout",
     "output_type": "stream",
     "text": [
      "a_test_values: [5, 7, 11, 17, 31, 41]\n",
      "b_test_values: [2, 64, 58, 44, 40, 38]\n",
      "c_test_values: [10, 448, 638, 748, 1240, 1558]\n"
     ]
    }
   ],
   "source": [
    "a_test_values = den_test_values[:6]\n",
    "b_test_values = [den_test_values[-i]-3 for i in range(len(a_test_values))]\n",
    "c_test_values = [i*j for (i,j) in zip(a_test_values, b_test_values)]\n",
    "\n",
    "print(f\"a_test_values: {a_test_values}\")\n",
    "print(f\"b_test_values: {b_test_values}\")\n",
    "print(f\"c_test_values: {c_test_values}\")\n"
   ]
  },
  {
   "cell_type": "code",
   "execution_count": 12,
   "metadata": {},
   "outputs": [
    {
     "name": "stdout",
     "output_type": "stream",
     "text": [
      "a_test_bin_values:\n",
      "0000000010100000\n",
      "0000000011100000\n",
      "0000000101100000\n",
      "0000001000100000\n",
      "0000001111100000\n",
      "0000010100100000\n",
      "\n",
      "\n",
      "\n",
      "b_test_bin_values:\n",
      "0000000001000000\n",
      "0000100000000000\n",
      "0000011101000000\n",
      "0000010110000000\n",
      "0000010100000000\n",
      "0000010011000000\n"
     ]
    }
   ],
   "source": [
    "a_test_bin_values = [float_to_fixed_point(a, FP_TOTAL, FP_FRAC) for a in a_test_values]\n",
    "b_test_bin_values = [float_to_fixed_point(b, FP_TOTAL, FP_FRAC) for b in b_test_values]\n",
    "c_test_bin_values = [float_to_fixed_point(c, FP_TOTAL, FP_FRAC) for c in c_test_values]\n",
    "\n",
    "print(f\"a_test_bin_values:\")\n",
    "for a in a_test_bin_values: print(a) \n",
    "\n",
    "print(\"\\n\\n\")\n",
    "print(f\"b_test_bin_values:\")\n",
    "for b in b_test_bin_values: print(b)\n"
   ]
  },
  {
   "cell_type": "code",
   "execution_count": 13,
   "metadata": {},
   "outputs": [
    {
     "name": "stdout",
     "output_type": "stream",
     "text": [
      "a_test_int_values:\n",
      "160\n",
      "224\n",
      "352\n",
      "544\n",
      "992\n",
      "1312\n",
      "\n",
      "\n",
      "\n",
      "b_test_int_values:\n",
      "64\n",
      "2048\n",
      "1856\n",
      "1408\n",
      "1280\n",
      "1216\n",
      "\n",
      "\n",
      "\n",
      "c_test_int_values:\n",
      "320\n",
      "14336\n",
      "20416\n",
      "23936\n",
      "-25856\n",
      "-15680\n"
     ]
    }
   ],
   "source": [
    "a_test_int_values = [int(fixed_point_to_float(a, 0)) for a in a_test_bin_values]\n",
    "b_test_int_values = [int(fixed_point_to_float(b, 0)) for b in b_test_bin_values]\n",
    "c_test_int_values = [int(fixed_point_to_float(c, 0)) for c in c_test_bin_values]\n",
    "\n",
    "print(f\"a_test_int_values:\")\n",
    "for a in a_test_int_values: print(a) \n",
    "\n",
    "print(\"\\n\\n\")\n",
    "print(f\"b_test_int_values:\")\n",
    "for b in b_test_int_values: print(b)\n",
    "\n",
    "print(\"\\n\\n\")\n",
    "print(f\"c_test_int_values:\")\n",
    "for c in c_test_int_values: print(c)\n"
   ]
  },
  {
   "cell_type": "code",
   "execution_count": null,
   "metadata": {},
   "outputs": [],
   "source": []
  }
 ],
 "metadata": {
  "kernelspec": {
   "display_name": "rheed_hls4ml_dev",
   "language": "python",
   "name": "python3"
  },
  "language_info": {
   "codemirror_mode": {
    "name": "ipython",
    "version": 3
   },
   "file_extension": ".py",
   "mimetype": "text/x-python",
   "name": "python",
   "nbconvert_exporter": "python",
   "pygments_lexer": "ipython3",
   "version": "3.10.15"
  }
 },
 "nbformat": 4,
 "nbformat_minor": 2
}
